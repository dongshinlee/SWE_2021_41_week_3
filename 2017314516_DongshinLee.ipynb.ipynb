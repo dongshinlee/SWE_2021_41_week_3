{
  "nbformat": 4,
  "nbformat_minor": 0,
  "metadata": {
    "colab": {
      "provenance": []
    },
    "kernelspec": {
      "name": "python3",
      "display_name": "Python 3"
    },
    "language_info": {
      "name": "python"
    }
  },
  "cells": [
    {
      "cell_type": "markdown",
      "source": [
        "## Task\n",
        "- Complete **isHappy** function following the description below\n",
        "\n",
        "### Happy Number\n",
        "Write an algorithm to determine if a number **n** is happy.\n",
        "\n",
        "A **happy number** is a number defined by the following process:\n",
        "\n",
        "* Starting with any positive integer, replace the number by the sum of the squares of its digits.\n",
        "* Repeat the process until the number equals 1 (where it will stay), or it **loops endlessly in a cycle** which does not include 1.\n",
        "* Those numbers for which this process **ends in 1** are happy.\n",
        "\n",
        "Return **true** if n is a happy number, and **false** if not.\n",
        "\n",
        "Constraints:\n",
        "1 <= n <= $2^{31}$ - 1"
      ],
      "metadata": {
        "id": "TV3Socqg8BVl"
      }
    },
    {
      "cell_type": "code",
      "source": [],
      "metadata": {
        "id": "FNS3hdZFZNHG"
      },
      "execution_count": null,
      "outputs": []
    },
    {
      "cell_type": "code",
      "execution_count": 8,
      "metadata": {
        "id": "5FcxitVf5kdQ",
        "colab": {
          "base_uri": "https://localhost:8080/"
        },
        "outputId": "c83f987d-8413-4539-f2fb-ac6374714788"
      },
      "outputs": [
        {
          "output_type": "execute_result",
          "data": {
            "text/plain": [
              "True"
            ]
          },
          "metadata": {},
          "execution_count": 8
        }
      ],
      "source": [
        "def isHappy(n):\n",
        "\n",
        "  isLoop = set()\n",
        "\n",
        "  while n!= 1 and n not in isLoop:\n",
        "    isLoop.add(n)\n",
        "\n",
        "    squareSum = 0\n",
        "\n",
        "    while(n!=0):\n",
        "      n, digit = divmod(n, 10)\n",
        "      squareSum += digit ** 2\n",
        "\n",
        "    n = squareSum\n",
        "\n",
        "  return n == 1\n",
        "\n",
        "isHappy(19)\n",
        "\n",
        "\n",
        "\n",
        "\n"
      ]
    },
    {
      "cell_type": "markdown",
      "source": [
        "**Testcase 1.**\n",
        "\n",
        "**Input**: 19\n",
        "\n",
        "**Output**: True\n",
        "\n",
        "**Explanation**:\n",
        "\n",
        "$1^2 + 9^2 = 82$\n",
        "\n",
        "$8^2 + 2^2 = 68$\n",
        "\n",
        "$6^2 + 8^2 = 100$\n",
        "\n",
        "$1^2 + 0^2 + 0^2 = 1$"
      ],
      "metadata": {
        "id": "eRrh24Ognrqf"
      }
    },
    {
      "cell_type": "markdown",
      "source": [
        "**Testcase 2.**\n",
        "\n",
        "**Input**: 2\n",
        "\n",
        "**Output**: False"
      ],
      "metadata": {
        "id": "dE7YMY8qoPoj"
      }
    }
  ]
}